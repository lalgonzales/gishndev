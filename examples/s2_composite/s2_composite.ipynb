{
 "cells": [
  {
   "cell_type": "markdown",
   "metadata": {},
   "source": [
    "# Sentinel 2 composite using mask_s2_clouds\n",
    "[![Open In Colab](https://colab.research.google.com/assets/colab-badge.svg)](https://colab.research.google.com/github/lalgonzales/gishndev/blob/main/docs/examples/s2_composite.ipynb)\n",
    "\n",
    "\n",
    "This notebook show how can you get clean composites using the function, this function apply diferents filters to the image to get a clean composite."
   ]
  },
  {
   "cell_type": "code",
   "execution_count": null,
   "metadata": {},
   "outputs": [],
   "source": [
    "# !pip install gishndev"
   ]
  },
  {
   "cell_type": "code",
   "execution_count": null,
   "metadata": {},
   "outputs": [],
   "source": [
    "import ee\n",
    "import geemap\n",
    "from gishndev import mask_s2_clouds\n",
    "\n",
    "ee.Authenticate()\n",
    "ee.Initialize()"
   ]
  },
  {
   "cell_type": "code",
   "execution_count": null,
   "metadata": {},
   "outputs": [],
   "source": [
    "# Sentinel 2 collection\n",
    "s2_col = ee.ImageCollection(\"COPERNICUS/S2_SR_HARMONIZED\")\n",
    "\n",
    "# Google Cloud Score + collection\n",
    "score_plus_col = ee.ImageCollection(\"GOOGLE/CLOUD_SCORE_PLUS/V1/S2_HARMONIZED\")\n",
    "\n",
    "# Define the date range and region of interest\n",
    "start_date = \"2020-01-01\"\n",
    "end_date = \"2020-12-31\"\n",
    "roi = ee.FeatureCollection(\"USDOS/LSIB/2017\").filter(\n",
    "    ee.Filter.eq(\"COUNTRY_NA\", \"Honduras\")\n",
    ")\n",
    "ext = roi.geometry().bounds()\n",
    "\n",
    "# Get a clean collection of Sentinel 2 images\n",
    "sen2 = (\n",
    "    s2_col.filterDate(start_date, end_date)\n",
    "    .filterBounds(ext)\n",
    "    .linkCollection(score_plus_col, [\"cs_cdf\"])\n",
    "    .map(lambda img: img.updateMask(img.select(\"cs_cdf\").gte(0.5)))\n",
    "    .map(mask_s2_clouds)\n",
    ")\n",
    "\n",
    "sen2_median = sen2.median()"
   ]
  },
  {
   "cell_type": "code",
   "execution_count": null,
   "metadata": {},
   "outputs": [],
   "source": [
    "m = geemap.Map()\n",
    "m.center_object(roi, zoom=8)\n",
    "m.add_layer(\n",
    "    sen2_median, {\"bands\": [\"B4\", \"B3\", \"B2\"], \"min\": 0, \"max\": 2000}, \"Sentinel 2\"\n",
    ")\n",
    "m"
   ]
  }
 ],
 "metadata": {
  "kernelspec": {
   "display_name": "demo",
   "language": "python",
   "name": "python3"
  },
  "language_info": {
   "codemirror_mode": {
    "name": "ipython",
    "version": 3
   },
   "file_extension": ".py",
   "mimetype": "text/x-python",
   "name": "python",
   "nbconvert_exporter": "python",
   "pygments_lexer": "ipython3",
   "version": "3.12.9"
  }
 },
 "nbformat": 4,
 "nbformat_minor": 2
}
